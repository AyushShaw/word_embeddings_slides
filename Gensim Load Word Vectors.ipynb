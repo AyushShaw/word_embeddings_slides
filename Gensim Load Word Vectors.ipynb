{
 "cells": [
  {
   "cell_type": "markdown",
   "metadata": {},
   "source": [
    "Reference: [link](https://rare-technologies.com/word2vec-tutorial/)"
   ]
  },
  {
   "cell_type": "code",
   "execution_count": null,
   "metadata": {},
   "outputs": [],
   "source": [
    "import gensim"
   ]
  },
  {
   "cell_type": "code",
   "execution_count": 3,
   "metadata": {},
   "outputs": [],
   "source": [
    "sentences = [['first', 'sentence'], ['second', 'sentence']]\n",
    "# train word2vec on the two sentences\n",
    "model = gensim.models.Word2Vec(sentences, min_count=1)"
   ]
  },
  {
   "cell_type": "code",
   "execution_count": 4,
   "metadata": {
    "scrolled": true
   },
   "outputs": [
    {
     "data": {
      "text/plain": [
       "array([ 0.00106842, -0.00312128,  0.0047069 , -0.00414356, -0.00423598,\n",
       "       -0.00040327, -0.00029676, -0.00417477, -0.00044186, -0.00328746,\n",
       "       -0.00270419,  0.00424604,  0.00210823, -0.00187221, -0.00349442,\n",
       "       -0.00426781, -0.00208468,  0.00252425, -0.00390444,  0.00116104,\n",
       "        0.00020523,  0.00459912,  0.00336795,  0.00190524, -0.00138593,\n",
       "        0.00169119,  0.00389097,  0.00472171,  0.00072917, -0.00289813,\n",
       "       -0.00378115, -0.00122332, -0.0010024 , -0.00361622,  0.0040295 ,\n",
       "       -0.00152582, -0.00402649,  0.00404417, -0.00057686,  0.0048143 ,\n",
       "       -0.00257664,  0.0032158 , -0.00269044,  0.00048096,  0.00219135,\n",
       "        0.00350089, -0.00357451,  0.00349201, -0.00025142,  0.00072228,\n",
       "        0.00045538, -0.00445417,  0.00306503, -0.00147165,  0.00480565,\n",
       "        0.00091066,  0.00044831, -0.00163721,  0.00049226,  0.00117763,\n",
       "        0.00073401,  0.00241021,  0.00398384, -0.00464297,  0.00311831,\n",
       "       -0.0037067 ,  0.00032445, -0.00475344, -0.00101856, -0.00125727,\n",
       "       -0.00255344,  0.00397939, -0.00200482, -0.00423481, -0.00348692,\n",
       "       -0.00254545,  0.0047148 , -0.00278106,  0.00115505, -0.00191573,\n",
       "        0.00327075, -0.00357253,  0.00368183,  0.00010532, -0.00260588,\n",
       "       -0.0001822 , -0.00419704, -0.00193349, -0.00254751,  0.00459538,\n",
       "        0.00139982, -0.00128197,  0.00288744, -0.00166749, -0.00431802,\n",
       "       -0.0009262 , -0.00466894,  0.00419241, -0.00239153, -0.00087469], dtype=float32)"
      ]
     },
     "execution_count": 4,
     "metadata": {},
     "output_type": "execute_result"
    }
   ],
   "source": [
    "model['second']"
   ]
  },
  {
   "cell_type": "code",
   "execution_count": 6,
   "metadata": {},
   "outputs": [],
   "source": [
    "model.save('mymodel')\n",
    "new_model = gensim.models.Word2Vec.load('mymodel')"
   ]
  },
  {
   "cell_type": "code",
   "execution_count": 11,
   "metadata": {},
   "outputs": [
    {
     "data": {
      "text/plain": [
       "(400000, 50)"
      ]
     },
     "execution_count": 11,
     "metadata": {},
     "output_type": "execute_result"
    }
   ],
   "source": [
    "from gensim.models.keyedvectors import KeyedVectors\n",
    "gensim.scripts.glove2word2vec.glove2word2vec('glove.6B.50d.txt', 'word2vec_glove.txt')"
   ]
  },
  {
   "cell_type": "code",
   "execution_count": 12,
   "metadata": {},
   "outputs": [],
   "source": [
    "glove_model = KeyedVectors.load_word2vec_format('word2vec_glove.txt', binary=False)"
   ]
  },
  {
   "cell_type": "code",
   "execution_count": 13,
   "metadata": {},
   "outputs": [
    {
     "data": {
      "text/plain": [
       "[('queen', 0.8523603677749634),\n",
       " ('throne', 0.7664334177970886),\n",
       " ('prince', 0.759214460849762),\n",
       " ('daughter', 0.7473883032798767),\n",
       " ('elizabeth', 0.7460220456123352),\n",
       " ('princess', 0.7424569725990295),\n",
       " ('kingdom', 0.7337411642074585),\n",
       " ('monarch', 0.7214490175247192),\n",
       " ('eldest', 0.7184861898422241),\n",
       " ('widow', 0.7099430561065674)]"
      ]
     },
     "execution_count": 13,
     "metadata": {},
     "output_type": "execute_result"
    }
   ],
   "source": [
    "glove_model.wv.most_similar(positive=['woman', 'king'], negative=['man']) # king - man + woman"
   ]
  },
  {
   "cell_type": "code",
   "execution_count": 15,
   "metadata": {},
   "outputs": [
    {
     "data": {
      "text/plain": [
       "'cereal'"
      ]
     },
     "execution_count": 15,
     "metadata": {},
     "output_type": "execute_result"
    }
   ],
   "source": [
    "glove_model.wv.doesnt_match(\"breakfast cereal dinner lunch\".split())"
   ]
  },
  {
   "cell_type": "code",
   "execution_count": 17,
   "metadata": {},
   "outputs": [
    {
     "data": {
      "text/plain": [
       "0.88603376834235426"
      ]
     },
     "execution_count": 17,
     "metadata": {},
     "output_type": "execute_result"
    }
   ],
   "source": [
    "glove_model.wv.similarity('woman', 'man')"
   ]
  },
  {
   "cell_type": "code",
   "execution_count": 18,
   "metadata": {},
   "outputs": [
    {
     "data": {
      "text/plain": [
       "0.90652807013092229"
      ]
     },
     "execution_count": 18,
     "metadata": {},
     "output_type": "execute_result"
    }
   ],
   "source": [
    "glove_model.wv.similarity('woman', 'girl')"
   ]
  },
  {
   "cell_type": "code",
   "execution_count": 21,
   "metadata": {},
   "outputs": [],
   "source": [
    "# lets try loading glove file itself\n",
    "del glove_model"
   ]
  },
  {
   "cell_type": "code",
   "execution_count": 22,
   "metadata": {},
   "outputs": [],
   "source": [
    "import numpy as np\n",
    "def loadGloveModel(gloveFile):\n",
    "    print (\"Loading Glove Model\")\n",
    "    f = open(gloveFile,'r')\n",
    "    model = {}\n",
    "    for line in f:\n",
    "        splitLine = line.split()\n",
    "        word = splitLine[0]\n",
    "        embedding = np.array([float(val) for val in splitLine[1:]])\n",
    "        model[word] = embedding\n",
    "    print (\"Done.\",len(model),\" words loaded!\")\n",
    "    return model"
   ]
  },
  {
   "cell_type": "code",
   "execution_count": 23,
   "metadata": {},
   "outputs": [
    {
     "name": "stdout",
     "output_type": "stream",
     "text": [
      "Loading Glove Model\n",
      "Done. 400000  words loaded!\n"
     ]
    }
   ],
   "source": [
    "manual_load_model = loadGloveModel('glove.6B.50d.txt')"
   ]
  },
  {
   "cell_type": "code",
   "execution_count": 26,
   "metadata": {},
   "outputs": [
    {
     "data": {
      "text/plain": [
       "array([-0.094386,  0.43007 , -0.17224 , -0.45529 ,  1.6447  ,  0.40335 ,\n",
       "       -0.37263 ,  0.25071 , -0.10588 ,  0.10778 , -0.10848 ,  0.15181 ,\n",
       "       -0.65396 ,  0.55054 ,  0.59591 , -0.46278 ,  0.11847 ,  0.64448 ,\n",
       "       -0.70948 ,  0.23947 , -0.82905 ,  1.272   ,  0.033021,  0.2935  ,\n",
       "        0.3911  , -2.8094  , -0.70745 ,  0.4106  ,  0.3894  , -0.2913  ,\n",
       "        2.6124  , -0.34576 , -0.16832 ,  0.25154 ,  0.31216 ,  0.31639 ,\n",
       "        0.12539 , -0.012646,  0.22297 , -0.56585 , -0.086264,  0.62549 ,\n",
       "       -0.0576  ,  0.29375 ,  0.66005 , -0.53115 , -0.48233 , -0.97925 ,\n",
       "        0.53135 , -0.11725 ])"
      ]
     },
     "execution_count": 26,
     "metadata": {},
     "output_type": "execute_result"
    }
   ],
   "source": [
    "manual_load_model['man']"
   ]
  },
  {
   "cell_type": "code",
   "execution_count": 27,
   "metadata": {},
   "outputs": [
    {
     "data": {
      "text/plain": [
       "array([ -1.81530000e-01,   6.48270000e-01,  -5.82100000e-01,\n",
       "        -4.94510000e-01,   1.54150000e+00,   1.34500000e+00,\n",
       "        -4.33050000e-01,   5.80590000e-01,   3.55560000e-01,\n",
       "        -2.51840000e-01,   2.02540000e-01,  -7.16430000e-01,\n",
       "         3.06100000e-01,   5.61270000e-01,   8.39280000e-01,\n",
       "        -3.80850000e-01,  -9.08750000e-01,   4.33260000e-01,\n",
       "        -1.44360000e-02,   2.37250000e-01,  -5.37990000e-01,\n",
       "         1.77730000e+00,  -6.64330000e-02,   6.97950000e-01,\n",
       "         6.92910000e-01,  -2.67390000e+00,  -7.68050000e-01,\n",
       "         3.39290000e-01,   1.96950000e-01,  -3.52450000e-01,\n",
       "         2.29200000e+00,  -2.74110000e-01,  -3.01690000e-01,\n",
       "         8.52860000e-04,   1.69230000e-01,   9.14330000e-02,\n",
       "        -2.36100000e-02,   3.62360000e-02,   3.44880000e-01,\n",
       "        -8.39470000e-01,  -2.51740000e-01,   4.21230000e-01,\n",
       "         4.86160000e-01,   2.23250000e-02,   5.57600000e-01,\n",
       "        -8.52230000e-01,  -2.30730000e-01,  -1.31380000e+00,\n",
       "         4.87640000e-01,  -1.04670000e-01])"
      ]
     },
     "execution_count": 27,
     "metadata": {},
     "output_type": "execute_result"
    }
   ],
   "source": [
    "manual_load_model['woman']"
   ]
  },
  {
   "cell_type": "code",
   "execution_count": 28,
   "metadata": {},
   "outputs": [],
   "source": [
    "import math\n",
    "\n",
    "def dot_product(v1, v2):\n",
    "    return sum(map(lambda x: x[0] * x[1], zip(v1, v2)))\n",
    "\n",
    "def cosine_measure(v1, v2):\n",
    "    prod = dot_product(v1, v2)\n",
    "    len1 = math.sqrt(dot_product(v1, v1))\n",
    "    len2 = math.sqrt(dot_product(v2, v2))\n",
    "    return prod / (len1 * len2)\n"
   ]
  },
  {
   "cell_type": "code",
   "execution_count": 29,
   "metadata": {},
   "outputs": [
    {
     "data": {
      "text/plain": [
       "0.8860337718495821"
      ]
     },
     "execution_count": 29,
     "metadata": {},
     "output_type": "execute_result"
    }
   ],
   "source": [
    "cosine_measure(manual_load_model['man'], manual_load_model['woman'])"
   ]
  },
  {
   "cell_type": "code",
   "execution_count": null,
   "metadata": {},
   "outputs": [],
   "source": []
  }
 ],
 "metadata": {
  "kernelspec": {
   "display_name": "Python 3",
   "language": "python",
   "name": "python3"
  },
  "language_info": {
   "codemirror_mode": {
    "name": "ipython",
    "version": 3
   },
   "file_extension": ".py",
   "mimetype": "text/x-python",
   "name": "python",
   "nbconvert_exporter": "python",
   "pygments_lexer": "ipython3",
   "version": "3.5.2"
  }
 },
 "nbformat": 4,
 "nbformat_minor": 2
}
